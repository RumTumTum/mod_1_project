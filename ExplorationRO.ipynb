{
 "cells": [
  {
   "cell_type": "code",
   "execution_count": null,
   "metadata": {},
   "outputs": [],
   "source": [
    "Google Drive File Stream/My Drive/Personal/Flatiron Data Science Bootcamp/Repostories/mod_1_project/data/bom.movie_gross.csv\n",
    "Google Drive File Stream/My Drive/Personal/Flatiron Data Science Bootcamp/Repostories/mod_1_project/data/imdb.name.basics.csv\n",
    "Google Drive File Stream/My Drive/Personal/Flatiron Data Science Bootcamp/Repostories/mod_1_project/data/imdb.title.akas.csv\n",
    "Google Drive File Stream/My Drive/Personal/Flatiron Data Science Bootcamp/Repostories/mod_1_project/data/imdb.title.basics.csv\n",
    "Google Drive File Stream/My Drive/Personal/Flatiron Data Science Bootcamp/Repostories/mod_1_project/data/imdb.title.crew.csv\n",
    "Google Drive File Stream/My Drive/Personal/Flatiron Data Science Bootcamp/Repostories/mod_1_project/data/imdb.title.principals.csv\n",
    "Google Drive File Stream/My Drive/Personal/Flatiron Data Science Bootcamp/Repostories/mod_1_project/data/imdb.title.ratings.csv\n",
    "Google Drive File Stream/My Drive/Personal/Flatiron Data Science Bootcamp/Repostories/mod_1_project/data/rt.movie_info.tsv\n",
    "Google Drive File Stream/My Drive/Personal/Flatiron Data Science Bootcamp/Repostories/mod_1_project/data/rt.reviews.tsv\n",
    "Google Drive File Stream/My Drive/Personal/Flatiron Data Science Bootcamp/Repostories/mod_1_project/data/tmdb.movies.csv\n",
    "Google Drive File Stream/My Drive/Personal/Flatiron Data Science Bootcamp/Repostories/mod_1_project/data/tn.movie_budgets.csv"
   ]
  },
  {
   "cell_type": "code",
   "execution_count": 16,
   "metadata": {},
   "outputs": [],
   "source": [
    "file_names = [\n",
    "    'Google Drive File Stream/My Drive/Personal/Flatiron Data Science Bootcamp/Repostories/mod_1_project/data/bom.movie_gross.csv',\n",
    "    'Google Drive File Stream/My Drive/Personal/Flatiron Data Science Bootcamp/Repostories/mod_1_project/data/imdb.name.basics.csv',\n",
    "    'Google Drive File Stream/My Drive/Personal/Flatiron Data Science Bootcamp/Repostories/mod_1_project/data/imdb.title.akas.csv',\n",
    "    'Google Drive File Stream/My Drive/Personal/Flatiron Data Science Bootcamp/Repostories/mod_1_project/data/imdb.title.basics.csv',\n",
    "    'Google Drive File Stream/My Drive/Personal/Flatiron Data Science Bootcamp/Repostories/mod_1_project/data/imdb.title.crew.csv',\n",
    "    'Google Drive File Stream/My Drive/Personal/Flatiron Data Science Bootcamp/Repostories/mod_1_project/data/imdb.title.principals.csv',\n",
    "    'Google Drive File Stream/My Drive/Personal/Flatiron Data Science Bootcamp/Repostories/mod_1_project/data/imdb.title.ratings.csv',\n",
    "    'Google Drive File Stream/My Drive/Personal/Flatiron Data Science Bootcamp/Repostories/mod_1_project/data/rt.movie_info.tsv',\n",
    "    'Google Drive File Stream/My Drive/Personal/Flatiron Data Science Bootcamp/Repostories/mod_1_project/data/rt.reviews.tsv',\n",
    "    'Google Drive File Stream/My Drive/Personal/Flatiron Data Science Bootcamp/Repostories/mod_1_project/data/tmdb.movies.csv',\n",
    "    'Google Drive File Stream/My Drive/Personal/Flatiron Data Science Bootcamp/Repostories/mod_1_project/data/tn.movie_budgets.csv',\n",
    "]"
   ]
  },
  {
   "cell_type": "code",
   "execution_count": 17,
   "metadata": {},
   "outputs": [],
   "source": [
    "import pandas as pd"
   ]
  },
  {
   "cell_type": "code",
   "execution_count": 19,
   "metadata": {},
   "outputs": [
    {
     "data": {
      "text/plain": [
       "['bom.movie_gross.csv',\n",
       " 'imdb.name.basics.csv',\n",
       " 'imdb.title.akas.csv',\n",
       " 'imdb.title.basics.csv',\n",
       " 'imdb.title.crew.csv',\n",
       " 'imdb.title.principals.csv',\n",
       " 'imdb.title.ratings.csv',\n",
       " 'rt.movie_info.tsv',\n",
       " 'rt.reviews.tsv',\n",
       " 'tmdb.movies.csv',\n",
       " 'tn.movie_budgets.csv']"
      ]
     },
     "execution_count": 19,
     "metadata": {},
     "output_type": "execute_result"
    }
   ],
   "source": [
    "file_names_cleaned = []\n",
    "for each in file_names:\n",
    "    file_names_cleaned.append(each[105:])\n",
    "file_names_cleaned"
   ]
  },
  {
   "cell_type": "code",
   "execution_count": 20,
   "metadata": {},
   "outputs": [
    {
     "name": "stdout",
     "output_type": "stream",
     "text": [
      "['bom.movie_gross.csv', 'imdb.name.basics.csv', 'imdb.title.akas.csv', 'imdb.title.basics.csv', 'imdb.title.crew.csv', 'imdb.title.principals.csv', 'imdb.title.ratings.csv', 'rt.movie_info.tsv', 'rt.reviews.tsv', 'tmdb.movies.csv', 'tn.movie_budgets.csv']\n"
     ]
    }
   ],
   "source": [
    "print(file_names_cleaned)"
   ]
  },
  {
   "cell_type": "code",
   "execution_count": 24,
   "metadata": {},
   "outputs": [
    {
     "data": {
      "text/html": [
       "<div>\n",
       "<style scoped>\n",
       "    .dataframe tbody tr th:only-of-type {\n",
       "        vertical-align: middle;\n",
       "    }\n",
       "\n",
       "    .dataframe tbody tr th {\n",
       "        vertical-align: top;\n",
       "    }\n",
       "\n",
       "    .dataframe thead th {\n",
       "        text-align: right;\n",
       "    }\n",
       "</style>\n",
       "<table border=\"1\" class=\"dataframe\">\n",
       "  <thead>\n",
       "    <tr style=\"text-align: right;\">\n",
       "      <th></th>\n",
       "      <th>title</th>\n",
       "      <th>studio</th>\n",
       "      <th>domestic_gross</th>\n",
       "      <th>foreign_gross</th>\n",
       "      <th>year</th>\n",
       "    </tr>\n",
       "  </thead>\n",
       "  <tbody>\n",
       "    <tr>\n",
       "      <th>0</th>\n",
       "      <td>Toy Story 3</td>\n",
       "      <td>BV</td>\n",
       "      <td>415000000.0</td>\n",
       "      <td>652000000</td>\n",
       "      <td>2010</td>\n",
       "    </tr>\n",
       "    <tr>\n",
       "      <th>1</th>\n",
       "      <td>Alice in Wonderland (2010)</td>\n",
       "      <td>BV</td>\n",
       "      <td>334200000.0</td>\n",
       "      <td>691300000</td>\n",
       "      <td>2010</td>\n",
       "    </tr>\n",
       "    <tr>\n",
       "      <th>2</th>\n",
       "      <td>Harry Potter and the Deathly Hallows Part 1</td>\n",
       "      <td>WB</td>\n",
       "      <td>296000000.0</td>\n",
       "      <td>664300000</td>\n",
       "      <td>2010</td>\n",
       "    </tr>\n",
       "    <tr>\n",
       "      <th>3</th>\n",
       "      <td>Inception</td>\n",
       "      <td>WB</td>\n",
       "      <td>292600000.0</td>\n",
       "      <td>535700000</td>\n",
       "      <td>2010</td>\n",
       "    </tr>\n",
       "    <tr>\n",
       "      <th>4</th>\n",
       "      <td>Shrek Forever After</td>\n",
       "      <td>P/DW</td>\n",
       "      <td>238700000.0</td>\n",
       "      <td>513900000</td>\n",
       "      <td>2010</td>\n",
       "    </tr>\n",
       "  </tbody>\n",
       "</table>\n",
       "</div>"
      ],
      "text/plain": [
       "                                         title studio  domestic_gross  \\\n",
       "0                                  Toy Story 3     BV     415000000.0   \n",
       "1                   Alice in Wonderland (2010)     BV     334200000.0   \n",
       "2  Harry Potter and the Deathly Hallows Part 1     WB     296000000.0   \n",
       "3                                    Inception     WB     292600000.0   \n",
       "4                          Shrek Forever After   P/DW     238700000.0   \n",
       "\n",
       "  foreign_gross  year  \n",
       "0     652000000  2010  \n",
       "1     691300000  2010  \n",
       "2     664300000  2010  \n",
       "3     535700000  2010  \n",
       "4     513900000  2010  "
      ]
     },
     "execution_count": 24,
     "metadata": {},
     "output_type": "execute_result"
    }
   ],
   "source": [
    "bom_movie_gross = pd.read_csv('data/bom.movie_gross.csv')\n",
    "tn_movie_budgets = pd.read_csv('data/tn.movie_budgets.csv')\n",
    "imdb_name_basics = pd.read_csv('data/imdb.name.basics.csv')\n"
   ]
  },
  {
   "cell_type": "code",
   "execution_count": 44,
   "metadata": {},
   "outputs": [
    {
     "name": "stdout",
     "output_type": "stream",
     "text": [
      "<class 'pandas.core.frame.DataFrame'>\n",
      "RangeIndex: 3387 entries, 0 to 3386\n",
      "Data columns (total 5 columns):\n",
      "title             3387 non-null object\n",
      "studio            3382 non-null object\n",
      "domestic_gross    3359 non-null float64\n",
      "foreign_gross     2037 non-null object\n",
      "year              3387 non-null int64\n",
      "dtypes: float64(1), int64(1), object(3)\n",
      "memory usage: 132.4+ KB\n"
     ]
    }
   ],
   "source": [
    "bom_movie_gross.info()"
   ]
  },
  {
   "cell_type": "code",
   "execution_count": 45,
   "metadata": {},
   "outputs": [
    {
     "ename": "AttributeError",
     "evalue": "'Series' object has no attribute 'to_numeric'",
     "output_type": "error",
     "traceback": [
      "\u001b[0;31m---------------------------------------------------------------------------\u001b[0m",
      "\u001b[0;31mAttributeError\u001b[0m                            Traceback (most recent call last)",
      "\u001b[0;32m<ipython-input-45-1194f82885f9>\u001b[0m in \u001b[0;36m<module>\u001b[0;34m\u001b[0m\n\u001b[0;32m----> 1\u001b[0;31m \u001b[0mtn_movie_budgets\u001b[0m\u001b[0;34m.\u001b[0m\u001b[0mdomestic_gross\u001b[0m\u001b[0;34m.\u001b[0m\u001b[0mto_numeric\u001b[0m\u001b[0;34m(\u001b[0m\u001b[0;34m)\u001b[0m\u001b[0;34m\u001b[0m\u001b[0;34m\u001b[0m\u001b[0m\n\u001b[0m",
      "\u001b[0;32m/anaconda3/lib/python3.7/site-packages/pandas/core/generic.py\u001b[0m in \u001b[0;36m__getattr__\u001b[0;34m(self, name)\u001b[0m\n\u001b[1;32m   5065\u001b[0m             \u001b[0;32mif\u001b[0m \u001b[0mself\u001b[0m\u001b[0;34m.\u001b[0m\u001b[0m_info_axis\u001b[0m\u001b[0;34m.\u001b[0m\u001b[0m_can_hold_identifiers_and_holds_name\u001b[0m\u001b[0;34m(\u001b[0m\u001b[0mname\u001b[0m\u001b[0;34m)\u001b[0m\u001b[0;34m:\u001b[0m\u001b[0;34m\u001b[0m\u001b[0;34m\u001b[0m\u001b[0m\n\u001b[1;32m   5066\u001b[0m                 \u001b[0;32mreturn\u001b[0m \u001b[0mself\u001b[0m\u001b[0;34m[\u001b[0m\u001b[0mname\u001b[0m\u001b[0;34m]\u001b[0m\u001b[0;34m\u001b[0m\u001b[0;34m\u001b[0m\u001b[0m\n\u001b[0;32m-> 5067\u001b[0;31m             \u001b[0;32mreturn\u001b[0m \u001b[0mobject\u001b[0m\u001b[0;34m.\u001b[0m\u001b[0m__getattribute__\u001b[0m\u001b[0;34m(\u001b[0m\u001b[0mself\u001b[0m\u001b[0;34m,\u001b[0m \u001b[0mname\u001b[0m\u001b[0;34m)\u001b[0m\u001b[0;34m\u001b[0m\u001b[0;34m\u001b[0m\u001b[0m\n\u001b[0m\u001b[1;32m   5068\u001b[0m \u001b[0;34m\u001b[0m\u001b[0m\n\u001b[1;32m   5069\u001b[0m     \u001b[0;32mdef\u001b[0m \u001b[0m__setattr__\u001b[0m\u001b[0;34m(\u001b[0m\u001b[0mself\u001b[0m\u001b[0;34m,\u001b[0m \u001b[0mname\u001b[0m\u001b[0;34m,\u001b[0m \u001b[0mvalue\u001b[0m\u001b[0;34m)\u001b[0m\u001b[0;34m:\u001b[0m\u001b[0;34m\u001b[0m\u001b[0;34m\u001b[0m\u001b[0m\n",
      "\u001b[0;31mAttributeError\u001b[0m: 'Series' object has no attribute 'to_numeric'"
     ]
    }
   ],
   "source": [
    "tn_movie_budgets.domestic_gross.to_numeric()"
   ]
  },
  {
   "cell_type": "code",
   "execution_count": null,
   "metadata": {},
   "outputs": [],
   "source": []
  }
 ],
 "metadata": {
  "kernelspec": {
   "display_name": "Python 3",
   "language": "python",
   "name": "python3"
  },
  "language_info": {
   "codemirror_mode": {
    "name": "ipython",
    "version": 3
   },
   "file_extension": ".py",
   "mimetype": "text/x-python",
   "name": "python",
   "nbconvert_exporter": "python",
   "pygments_lexer": "ipython3",
   "version": "3.7.3"
  }
 },
 "nbformat": 4,
 "nbformat_minor": 2
}
