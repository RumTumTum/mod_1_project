{
 "cells": [
  {
   "cell_type": "code",
   "execution_count": 2,
   "metadata": {},
   "outputs": [],
   "source": [
    "import pandas as pd\n",
    "import matplotlib.pyplot as plt\n",
    "import seaborn as sns"
   ]
  },
  {
   "cell_type": "code",
   "execution_count": 3,
   "metadata": {},
   "outputs": [],
   "source": [
    "df = pd.read_pickle('working_dataset.pkl')"
   ]
  },
  {
   "cell_type": "markdown",
   "metadata": {},
   "source": [
    "### Analyze Music by Co-genres"
   ]
  },
  {
   "cell_type": "code",
   "execution_count": 4,
   "metadata": {
    "scrolled": true
   },
   "outputs": [],
   "source": [
    "perc_music_drama = len(df.loc[(df['music'] == 1) & (df['drama'] == 1) & (df['comedy'] == 0)])/len(df.loc[(df['music'] == 1)])*100"
   ]
  },
  {
   "cell_type": "code",
   "execution_count": 5,
   "metadata": {
    "scrolled": true
   },
   "outputs": [],
   "source": [
    "perc_music_comedy = len(df.loc[(df['music'] == 1) & (df['comedy'] == 1) & (df['drama'] == 0)])/len(df.loc[(df['music'] == 1)])*100"
   ]
  },
  {
   "cell_type": "code",
   "execution_count": 6,
   "metadata": {
    "scrolled": true
   },
   "outputs": [],
   "source": [
    "perc_music_drama_comedy = len(df.loc[(df['music'] == 1) & (df['comedy'] == 1) & (df['drama'] == 1)])/len(df.loc[(df['music'] == 1)])*100"
   ]
  },
  {
   "cell_type": "code",
   "execution_count": 7,
   "metadata": {},
   "outputs": [],
   "source": [
    "music_cogenre = {'Drama' : perc_music_drama, 'Comedy' : perc_music_comedy, 'Drama/Comedy' : perc_music_drama_comedy}"
   ]
  },
  {
   "cell_type": "code",
   "execution_count": 8,
   "metadata": {},
   "outputs": [
    {
     "data": {
      "text/plain": [
       "{'Drama': 53.191489361702125,\n",
       " 'Comedy': 17.02127659574468,\n",
       " 'Drama/Comedy': 19.148936170212767}"
      ]
     },
     "execution_count": 8,
     "metadata": {},
     "output_type": "execute_result"
    }
   ],
   "source": [
    "music_cogenre"
   ]
  },
  {
   "cell_type": "code",
   "execution_count": 51,
   "metadata": {},
   "outputs": [
    {
     "data": {
      "text/plain": [
       "Text(0.5, 0, 'Cogenre')"
      ]
     },
     "execution_count": 51,
     "metadata": {},
     "output_type": "execute_result"
    },
    {
     "data": {
      "image/png": "[encoded data removed]",
      "text/plain": [
       "<Figure size 432x288 with 1 Axes>"
      ]
     },
     "metadata": {
      "needs_background": "light"
     },
     "output_type": "display_data"
    }
   ],
   "source": [
    "music_breakdown = plt.bar(height = music_cogenre.values(), x= music_cogenre.keys())\n",
    "plt.ylim((0,100))\n",
    "plt.ylabel('Music Movies (%)', fontweight = 'bold')\n",
    "plt.xlabel('Cogenre', fontweight = 'bold')"
   ]
  },
  {
   "cell_type": "markdown",
   "metadata": {},
   "source": [
    "### Analyze Musicals by Co-genres"
   ]
  },
  {
   "cell_type": "code",
   "execution_count": 40,
   "metadata": {
    "scrolled": true
   },
   "outputs": [],
   "source": [
    "perc_musical_drama = len(df.loc[(df['musical'] == 1) & (df['drama'] == 1) & (df['comedy'] == 0)])/len(df.loc[(df['musical'] == 1)])*100"
   ]
  },
  {
   "cell_type": "code",
   "execution_count": 41,
   "metadata": {
    "scrolled": true
   },
   "outputs": [],
   "source": [
    "perc_musical_comedy = len(df.loc[(df['musical'] == 1) & (df['comedy'] == 1) & (df['drama'] == 0)])/len(df.loc[(df['musical'] == 1)])*100"
   ]
  },
  {
   "cell_type": "code",
   "execution_count": 42,
   "metadata": {},
   "outputs": [],
   "source": [
    "perc_musical_drama_comedy = len(df.loc[(df['musical'] == 1) & (df['comedy'] == 1) & (df['drama'] == 1)])/len(df.loc[(df['musical'] == 1)])*100"
   ]
  },
  {
   "cell_type": "code",
   "execution_count": 52,
   "metadata": {},
   "outputs": [],
   "source": [
    "musical_cogenre = {'Drama' : perc_musical_drama, 'Comedy' : perc_musical_comedy, \n",
    "                 'Drama/Comedy' : perc_musical_drama_comedy}"
   ]
  },
  {
   "cell_type": "code",
   "execution_count": 55,
   "metadata": {},
   "outputs": [
    {
     "data": {
      "text/plain": [
       "Text(0.5, 0, 'Cogenre')"
      ]
     },
     "execution_count": 55,
     "metadata": {},
     "output_type": "execute_result"
    },
    {
     "data": {
      "image/png": "[encoded data removed]",
      "text/plain": [
       "<Figure size 432x288 with 1 Axes>"
      ]
     },
     "metadata": {
      "needs_background": "light"
     },
     "output_type": "display_data"
    }
   ],
   "source": [
    "music_breakdown = plt.bar(height = musical_cogenre.values(), x= musical_cogenre.keys())\n",
    "plt.ylim((0,100))\n",
    "plt.ylabel('Musical Movies (%)', fontweight = 'bold')\n",
    "plt.xlabel('Cogenre', fontweight = 'bold')"
   ]
  },
  {
   "cell_type": "code",
   "execution_count": null,
   "metadata": {},
   "outputs": [],
   "source": []
  }
 ],
 "metadata": {
  "kernelspec": {
   "display_name": "Python 3",
   "language": "python",
   "name": "python3"
  },
  "language_info": {
   "codemirror_mode": {
    "name": "ipython",
    "version": 3
   },
   "file_extension": ".py",
   "mimetype": "text/x-python",
   "name": "python",
   "nbconvert_exporter": "python",
   "pygments_lexer": "ipython3",
   "version": "3.7.3"
  }
 },
 "nbformat": 4,
 "nbformat_minor": 2
}
