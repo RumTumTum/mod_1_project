{
 "cells": [
  {
   "cell_type": "code",
   "execution_count": 1,
   "metadata": {},
   "outputs": [],
   "source": [
    "import pandas as pd"
   ]
  },
  {
   "cell_type": "code",
   "execution_count": 2,
   "metadata": {},
   "outputs": [],
   "source": [
    "df = pd.read_pickle('working_dataset.pkl')"
   ]
  },
  {
   "cell_type": "markdown",
   "metadata": {},
   "source": [
    "### Analyze Music by Co-genres"
   ]
  },
  {
   "cell_type": "code",
   "execution_count": 19,
   "metadata": {
    "scrolled": true
   },
   "outputs": [],
   "source": [
    "perc_music_drama = len(df.loc[(df['music'] == 1) & (df['drama'] == 1) & (df['comedy'] == 0)])/len(df.loc[(df['music'] == 1)])*100"
   ]
  },
  {
   "cell_type": "code",
   "execution_count": 20,
   "metadata": {
    "scrolled": true
   },
   "outputs": [],
   "source": [
    "perc_music_comedy = len(df.loc[(df['music'] == 1) & (df['comedy'] == 1) & (df['drama'] == 0)])/len(df.loc[(df['music'] == 1)])*100"
   ]
  },
  {
   "cell_type": "code",
   "execution_count": 21,
   "metadata": {
    "scrolled": true
   },
   "outputs": [],
   "source": [
    "perc_music_drama_comedy = len(df.loc[(df['music'] == 1) & (df['comedy'] == 1) & (df['drama'] == 1)])/len(df.loc[(df['music'] == 1)])*100"
   ]
  },
  {
   "cell_type": "markdown",
   "metadata": {},
   "source": [
    "### Analyze Musicals by Co-genres"
   ]
  },
  {
   "cell_type": "code",
   "execution_count": 22,
   "metadata": {
    "scrolled": true
   },
   "outputs": [],
   "source": [
    "perc_musical_drama = len(df.loc[(df['musical'] == 1) & (df['drama'] == 1) & (df['comedy'] == 0)])/len(df.loc[(df['musical'] == 1)])*100"
   ]
  },
  {
   "cell_type": "code",
   "execution_count": 23,
   "metadata": {
    "scrolled": true
   },
   "outputs": [],
   "source": [
    "perc_musical_comedy = len(df.loc[(df['musical'] == 1) & (df['comedy'] == 1) & (df['drama'] == 0)])/len(df.loc[(df['musical'] == 1)])*100"
   ]
  },
  {
   "cell_type": "code",
   "execution_count": 24,
   "metadata": {},
   "outputs": [],
   "source": [
    "perc_music_drama_comedy = len(df.loc[(df['musical'] == 1) & (df['comedy'] == 1) & (df['drama'] == 1)])/len(df.loc[(df['musical'] == 1)])*100"
   ]
  }
 ],
 "metadata": {
  "kernelspec": {
   "display_name": "Python 3",
   "language": "python",
   "name": "python3"
  },
  "language_info": {
   "codemirror_mode": {
    "name": "ipython",
    "version": 3
   },
   "file_extension": ".py",
   "mimetype": "text/x-python",
   "name": "python",
   "nbconvert_exporter": "python",
   "pygments_lexer": "ipython3",
   "version": "3.7.3"
  }
 },
 "nbformat": 4,
 "nbformat_minor": 2
}
