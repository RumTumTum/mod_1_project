{
 "cells": [
  {
   "cell_type": "markdown",
   "metadata": {},
   "source": [
    "# Project Avatar: Key Findings"
   ]
  },
  {
   "cell_type": "markdown",
   "metadata": {},
   "source": [
    "## Project Overview"
   ]
  },
  {
   "cell_type": "markdown",
   "metadata": {},
   "source": [
    "**Microsoft Corporation** has seen various competitors enter the video content industry and is looking to enter the industry.\n",
    "\n",
    "**Microsoft** has engaged **Flatiron Consulting** to help **Microsoft** understand the movie industry and, specifically, to provide actionable insights to facilitate Microsoft's entry into the market.\n",
    "\n",
    "**Flatiron** will employ data analysis to synthesise and present these findings to facilitate the decision by **Microsoft**'s CEO on how to enter the market.\n"
   ]
  },
  {
   "cell_type": "markdown",
   "metadata": {},
   "source": [
    "## Key Questions and Methodology"
   ]
  },
  {
   "cell_type": "markdown",
   "metadata": {},
   "source": [
    "### Key questions\n",
    "- What genre should **Microsoft** enter when building out their new movie studio?\n",
    "\n",
    "### Sub-questions\n",
    "- What genres should be shortlisted based on market demand?\n",
    "- What genres should be shortlisted based on profit per movie?\n",
    "- What genres should be shortlisted based on ROI?\n",
    "\n",
    "### Assumption\n",
    "- **Microsoft** is interested in revenue and profitability. These will be used as key metrics on which to assess performance of genre groups\n",
    "- **Microsoft** prefers high revenue genres to allow ample room for growth\n",
    "- This is a first-step analysis to shortlist genres for Microsoft. Upon client’s selection of preferred genres, further study can be directed towards Next Step question listed at the end of this report.\n",
    "\n",
    "### Project Approach\n",
    "- Explore the distribution of revenue and profitability metrics by genre \n",
    "- Build a portfolio of genres to invest in to maximize return based on Revenue scale, Profit per Movie and ROI\n",
    "\n",
    "### Data Sources\n",
    "- [IMDb Database](https://developers.themoviedb.org/3/discover/movie-discover)\n",
    "- [The Numbers Movie Budget Database](https://www.the-numbers.com/movie/budgets/all)\n"
   ]
  },
  {
   "cell_type": "markdown",
   "metadata": {},
   "source": [
    "## Findings Summary"
   ]
  },
  {
   "cell_type": "markdown",
   "metadata": {},
   "source": [
    "Our key findings in this engagement are as follows.  We recommend the following seven genres to Microsoft for potential focus genres of the planned movie studio:\n",
    "- Adventure\n",
    "- Action\n",
    "- Comedy\n",
    "- Drama\n",
    "- Animation\n",
    "- Music\n",
    "- Musical\n",
    "\n",
    "Adventure, Action, Comedy and Drama were chosen based on Revenue Scale. These four genres fall within Tier 1 - the top tier of genre by US market revenue.  Animation is shortlisted based on a Median Per-Movie Profit.  Music and Musical are shortlisted based on high ROI with the caveat that they are in Tier 3 and there is a limited sample of succesful movies of these types."
   ]
  },
  {
   "cell_type": "markdown",
   "metadata": {},
   "source": [
    "## Question 1: Revenue, by Genre"
   ]
  },
  {
   "cell_type": "markdown",
   "metadata": {},
   "source": [
    "Question 1 looks at US Movie Revenue by Genre.  We take the assumption that Microsoft is interested in building a studio of scale to compete with Disney and would prefer higher revenue genres to allow for this expansion.\n",
    "\n",
    "For this analysis, we split total US revenue by genre. For movies that fall in multiple genres, revenue is split evenly amongst these genres for the purpose of this analyis.\n",
    "\n",
    "When sorted by revenue in this way, we find that there are 2 major dropoff points. One dropoff is observed between the Drama and Sci-fi genres and a second dropoff is observed between Mystery and Music genres.  We use these dropoffs as bounds for revenue Tiers 1, 2 and 3.\n",
    "\n",
    "We recommend keeping all four genres in Tier 1 in our shortlist based on revenue while Tier 2 and 3 genres may also be shortlisted based on subsequent questions.\n",
    "\n",
    "<img src=\"charts/revenue_by_genre.png\">\n",
    "\n"
   ]
  },
  {
   "cell_type": "markdown",
   "metadata": {},
   "source": [
    "## Question 2: Per-movie Profit, by Genre"
   ]
  },
  {
   "cell_type": "markdown",
   "metadata": {},
   "source": [
    "Question 2 looks at Per-movie profit to find genres in Tier 2 and Tier 3 for shortlisting.\n",
    "\n",
    "For this analysis, we first obtain movie profit calculated as worldwide gross revenue minus production budget.  We then take the median of movie profit across each genre.\n",
    "\n",
    "Our finding is that animation has a substantially higher than normal profit per movie. This occurs both in the case of median and mean aggregations. Based on this, we recommend considering Animation within our shortlist genres.\n",
    "\n",
    "<img src=\"charts/median_profit_per_movie_by_genre.png\">"
   ]
  },
  {
   "cell_type": "markdown",
   "metadata": {},
   "source": [
    "## Question 3: Return on Investment, by Genre"
   ]
  },
  {
   "cell_type": "markdown",
   "metadata": {},
   "source": [
    "Question 3 looks at Return on Investment (ROI) as a further means of shortlisting.\n",
    "\n",
    "For this analysis, we take the Movie Profit divided by Production Budget.  This gives us a weighted average of ROI.  The reason we use this metric is that we expect Microsoft to invest in a variety of movies within each genre, creating a portfolio that would mimic or outperform genre-wide performance as compared to the performance of a single median movie.\n",
    "\n",
    "Based on this analysis, we shortlist Music and Musicals with the caveat that these are small genres based on revenue and there are fewer examples of these movie types can be benchmarked.  Further analysis is recommended for these genres.\n",
    "\n",
    "<img src=\"charts/ROI_by_genre.png\">"
   ]
  },
  {
   "cell_type": "markdown",
   "metadata": {},
   "source": [
    "## Next Steps"
   ]
  },
  {
   "cell_type": "markdown",
   "metadata": {},
   "source": [
    "### Next Steps\n",
    "- **Microsoft** to decide on genres of interest based on shortlist and further discussion. Date TBD for Seattle discussion group led by **Flatiron**\n",
    "- **Flatiron** to explore Phase II Question detailed below\n",
    "\n",
    "### Phase II Deep Dive Questions\n",
    "- Crew\n",
    " - How does gender of lead actor impact revenue?\n",
    " - How does age of lead actor impact revenue?\n",
    " - Are certain directors, actors / actresses or other crew highly correlated with movie financial success?\n",
    "- Studio partnerships\n",
    " - What are the attributes of a studio that correlate with profitability and fast growth (exploratory)?\n",
    " - Which studios would be best partner with **Microsoft** based on **Microsoft**’s genres of interest or based on **Microsoft**’s current strengths?\n",
    "- Co-genre\n",
    " - Which genres be best combined to create co-genre movies?\n"
   ]
  },
  {
   "cell_type": "markdown",
   "metadata": {},
   "source": [
    "### Flatiron looks forward to our continued cooperation and we thank you for your time"
   ]
  }
 ],
 "metadata": {
  "kernelspec": {
   "display_name": "Python 3",
   "language": "python",
   "name": "python3"
  },
  "language_info": {
   "codemirror_mode": {
    "name": "ipython",
    "version": 3
   },
   "file_extension": ".py",
   "mimetype": "text/x-python",
   "name": "python",
   "nbconvert_exporter": "python",
   "pygments_lexer": "ipython3",
   "version": "3.7.3"
  }
 },
 "nbformat": 4,
 "nbformat_minor": 2
}
