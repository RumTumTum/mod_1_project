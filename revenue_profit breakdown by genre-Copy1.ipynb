{
 "cells": [
  {
   "cell_type": "code",
   "execution_count": 1,
   "metadata": {},
   "outputs": [],
   "source": [
    "import pandas as pd\n",
    "import movie_database_methods as imd\n",
    "import numpy as np\n",
    "import get_imdb\n",
    "import seaborn as sns"
   ]
  },
  {
   "cell_type": "code",
   "execution_count": 2,
   "metadata": {},
   "outputs": [],
   "source": [
    "imdb = get_imdb.get_imdb()\n",
    "\n",
    "tn = imd.tn_movie_budgets()"
   ]
  },
  {
   "cell_type": "code",
   "execution_count": 3,
   "metadata": {},
   "outputs": [],
   "source": [
    "unique_genres= ['Action','Crime','Drama','Biography','Comedy','Fantasy','Horror','Thriller','Adventure','Animation',\n",
    "'Documentary','History','Mystery','Sci-Fi','Romance','Family','War','Music','Sport','Western','Musical']"
   ]
  },
  {
   "cell_type": "code",
   "execution_count": 4,
   "metadata": {},
   "outputs": [],
   "source": [
    "combined = imd.movies_combined(tn,imdb)"
   ]
  },
  {
   "cell_type": "markdown",
   "metadata": {},
   "source": [
    "### Further Data Cleaning"
   ]
  },
  {
   "cell_type": "code",
   "execution_count": 5,
   "metadata": {},
   "outputs": [],
   "source": [
    "# Limit to Movies that have been released\n",
    "\n",
    "combined = combined.loc[combined['start_year'] < 2019]"
   ]
  },
  {
   "cell_type": "code",
   "execution_count": 6,
   "metadata": {},
   "outputs": [],
   "source": [
    "# Drop non-relevant genre columns\n",
    "\n",
    "combined.drop(columns = ['News','Adult','Talk-Show','Reality-TV','Game-Show','Short'], inplace = True)"
   ]
  },
  {
   "cell_type": "markdown",
   "metadata": {},
   "source": [
    "### Add Number of Genres Column"
   ]
  },
  {
   "cell_type": "code",
   "execution_count": 7,
   "metadata": {},
   "outputs": [],
   "source": [
    "combined['num_genres'] = combined.genres.map(lambda x: len(x))"
   ]
  },
  {
   "cell_type": "markdown",
   "metadata": {},
   "source": [
    "### Percent of Total Revenue by Genre Analysis"
   ]
  },
  {
   "cell_type": "code",
   "execution_count": 8,
   "metadata": {},
   "outputs": [],
   "source": [
    "total_revenue = combined.domestic_gross.sum()"
   ]
  },
  {
   "cell_type": "code",
   "execution_count": 9,
   "metadata": {},
   "outputs": [],
   "source": [
    "genre_percent_revenue = pd.Series()\n",
    "\n",
    "percent_revenues = []\n",
    "\n",
    "for genre in unique_genres:\n",
    "    # Subset dataframe based on genre\n",
    "    subset_by_genre = combined.loc[combined[genre] == 'True']\n",
    "    # Weight the revenue by dividing by the number of genres of movie\n",
    "    weighted_revenue = subset_by_genre.domestic_gross/subset_by_genre.num_genres\n",
    "    percent_of_total = weighted_revenue.sum()/total_revenue*100\n",
    "    percent_revenues.append(percent_of_total)"
   ]
  },
  {
   "cell_type": "code",
   "execution_count": 10,
   "metadata": {
    "scrolled": true
   },
   "outputs": [
    {
     "data": {
      "text/plain": [
       "99.96533968397583"
      ]
     },
     "execution_count": 10,
     "metadata": {},
     "output_type": "execute_result"
    }
   ],
   "source": [
    "percent_revenue_by_genre = pd.DataFrame(percent_revenues, unique_genres).reset_index()\n",
    "percent_revenue_by_genre.columns = ['genre', 'percent_revenue']\n",
    "percent_revenue_by_genre.percent_revenue.sum()"
   ]
  },
  {
   "cell_type": "code",
   "execution_count": 11,
   "metadata": {},
   "outputs": [
    {
     "data": {
      "text/plain": [
       "<matplotlib.axes._subplots.AxesSubplot at 0x7ff755d4d0b8>"
      ]
     },
     "execution_count": 11,
     "metadata": {},
     "output_type": "execute_result"
    },
    {
     "data": {
      "image/png": "[encoded data removed]",
      "text/plain": [
       "<Figure size 432x288 with 1 Axes>"
      ]
     },
     "metadata": {
      "needs_background": "light"
     },
     "output_type": "display_data"
    }
   ],
   "source": [
    "percent_revenue_by_genre.sort_values(by = 'percent_revenue', ascending = False).plot(kind = 'bar', x = 'genre')"
   ]
  },
  {
   "cell_type": "markdown",
   "metadata": {},
   "source": [
    "### Percent of Total Profit by Genre Analysis"
   ]
  },
  {
   "cell_type": "code",
   "execution_count": 12,
   "metadata": {},
   "outputs": [],
   "source": [
    "#Calucate Profit for Each Row\n",
    "\n",
    "combined['profit'] = (combined.domestic_gross - combined.production_budget)"
   ]
  },
  {
   "cell_type": "code",
   "execution_count": 13,
   "metadata": {},
   "outputs": [],
   "source": [
    "#Calculate Total Profit\n",
    "\n",
    "total_profit = combined['profit'].sum()"
   ]
  },
  {
   "cell_type": "code",
   "execution_count": 14,
   "metadata": {},
   "outputs": [],
   "source": [
    "percent_profits = []\n",
    "\n",
    "for genre in unique_genres:\n",
    "    #Subset dataframe based on genre\n",
    "    subset_by_genre = combined.loc[combined[genre] == 'True']\n",
    "    #Weight the profit by dividing by the number of genres of movie\n",
    "    weighted_profit = sum(subset_by_genre.profit/subset_by_genre.num_genres)\n",
    "    percent_profit = weighted_profit/total_profit*100\n",
    "    #norm_profit = weighted_profit.sum()/len(sub_by_genre)\n",
    "    percent_profits.append(percent_profit)"
   ]
  },
  {
   "cell_type": "code",
   "execution_count": 15,
   "metadata": {
    "scrolled": true
   },
   "outputs": [
    {
     "data": {
      "text/plain": [
       "100.2123128481172"
      ]
     },
     "execution_count": 15,
     "metadata": {},
     "output_type": "execute_result"
    }
   ],
   "source": [
    "percent_profits_by_genre = pd.DataFrame(percent_profits, unique_genres).reset_index()\n",
    "percent_profits_by_genre.columns = ['genre', 'percent_profit']\n",
    "percent_profits_by_genre.percent_profit.sum()"
   ]
  },
  {
   "cell_type": "code",
   "execution_count": 16,
   "metadata": {
    "scrolled": false
   },
   "outputs": [
    {
     "data": {
      "text/plain": [
       "<matplotlib.axes._subplots.AxesSubplot at 0x7ff755dbccf8>"
      ]
     },
     "execution_count": 16,
     "metadata": {},
     "output_type": "execute_result"
    },
    {
     "data": {
      "image/png": "[encoded data removed]",
      "text/plain": [
       "<Figure size 432x288 with 1 Axes>"
      ]
     },
     "metadata": {
      "needs_background": "light"
     },
     "output_type": "display_data"
    }
   ],
   "source": [
    "percent_profits_by_genre.sort_values(by = 'percent_profit', ascending = False).plot(kind = 'bar', x = 'genre')"
   ]
  },
  {
   "cell_type": "markdown",
   "metadata": {},
   "source": [
    "### Profit per Movie by Genre Analysis"
   ]
  },
  {
   "cell_type": "code",
   "execution_count": 17,
   "metadata": {},
   "outputs": [],
   "source": [
    "profit_per_movie = []\n",
    "\n",
    "\n",
    "for genre in unique_genres:\n",
    "    #Subset dataframe based on genre\n",
    "    subset_by_genre = combined.loc[combined[genre] == 'True']\n",
    "    movie_profit = subset_by_genre.profit\n",
    "    movie_profits = []\n",
    "    movie_profits.append(movie_profit)\n",
    "        #Return the mean of profits for movies of a certain genre\n",
    "    profit_per_movie.append(np.mean(movie_profit))"
   ]
  },
  {
   "cell_type": "code",
   "execution_count": 18,
   "metadata": {},
   "outputs": [],
   "source": [
    "percent_profits_by_genre = pd.DataFrame(profit_per_movie, unique_genres).reset_index()\n",
    "percent_profits_by_genre.columns = ['genre', 'profit_per_movie']"
   ]
  },
  {
   "cell_type": "code",
   "execution_count": 19,
   "metadata": {},
   "outputs": [
    {
     "data": {
      "text/plain": [
       "<matplotlib.axes._subplots.AxesSubplot at 0x7ff75257c588>"
      ]
     },
     "execution_count": 19,
     "metadata": {},
     "output_type": "execute_result"
    },
    {
     "data": {
      "image/png": "[encoded data removed]",
      "text/plain": [
       "<Figure size 432x288 with 1 Axes>"
      ]
     },
     "metadata": {
      "needs_background": "light"
     },
     "output_type": "display_data"
    }
   ],
   "source": [
    "percent_profits_by_genre.sort_values(by = 'profit_per_movie', ascending = False).plot(kind = 'bar', x = 'genre')"
   ]
  },
  {
   "cell_type": "markdown",
   "metadata": {},
   "source": [
    "### Return on Budget by Genre Analysis"
   ]
  },
  {
   "cell_type": "code",
   "execution_count": 20,
   "metadata": {},
   "outputs": [],
   "source": [
    "return_on_budget = []\n",
    "\n",
    "\n",
    "for genre in unique_genres:\n",
    "    #Subset dataframe based on genre\n",
    "    subset_by_genre = combined.loc[combined[genre] == 'True']\n",
    "    #Calculate return on budget\n",
    "    movie_return_on_budget = subset_by_genre.profit/subset_by_genre.production_budget*100\n",
    "    movie_return_on_budgets = []\n",
    "    movie_return_on_budgets.append(movie_return_on_budget)\n",
    "    #Return the mean of return on budgets for movies of a certain genre\n",
    "    return_on_budget.append(np.mean(movie_return_on_budgets))"
   ]
  },
  {
   "cell_type": "code",
   "execution_count": 21,
   "metadata": {},
   "outputs": [],
   "source": [
    "return_on_budget_by_genre = pd.DataFrame(return_on_budget, unique_genres).reset_index()\n",
    "return_on_budget_by_genre.columns = ['genre', 'return_on_budget']"
   ]
  },
  {
   "cell_type": "code",
   "execution_count": 22,
   "metadata": {},
   "outputs": [
    {
     "data": {
      "text/plain": [
       "<matplotlib.axes._subplots.AxesSubplot at 0x7ff7524b6160>"
      ]
     },
     "execution_count": 22,
     "metadata": {},
     "output_type": "execute_result"
    },
    {
     "data": {
      "image/png": "[encoded data removed]",
      "text/plain": [
       "<Figure size 432x288 with 1 Axes>"
      ]
     },
     "metadata": {
      "needs_background": "light"
     },
     "output_type": "display_data"
    }
   ],
   "source": [
    "return_on_budget_by_genre.sort_values(by = 'return_on_budget', ascending = False).plot(kind = 'bar', x = 'genre')"
   ]
  },
  {
   "cell_type": "code",
   "execution_count": null,
   "metadata": {},
   "outputs": [],
   "source": []
  }
 ],
 "metadata": {
  "kernelspec": {
   "display_name": "Python 3",
   "language": "python",
   "name": "python3"
  },
  "language_info": {
   "codemirror_mode": {
    "name": "ipython",
    "version": 3
   },
   "file_extension": ".py",
   "mimetype": "text/x-python",
   "name": "python",
   "nbconvert_exporter": "python",
   "pygments_lexer": "ipython3",
   "version": "3.7.3"
  }
 },
 "nbformat": 4,
 "nbformat_minor": 2
}
