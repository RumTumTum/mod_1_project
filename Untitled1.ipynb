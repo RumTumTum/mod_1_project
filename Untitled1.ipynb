{
 "cells": [
  {
   "cell_type": "code",
   "execution_count": 105,
   "metadata": {},
   "outputs": [],
   "source": [
    "'''Cleans and merges imdb.title.basics and tn databases'''\n",
    "\n",
    "import pandas as pd\n",
    "\n",
    "\n",
    "def get_imdb():\n",
    "    '''Retrieves cleaned imdb.title.basics dataframe'''\n",
    "    df_imdb = pd.read_csv(\"./data/imdb.title.basics.csv\")\n",
    "    df_imdb = df_imdb.loc[df_imdb['genres']\n",
    "                                              .isnull() == False]\n",
    "    df_imdb.genres = df_imdb.genres.map(lambda x:\n",
    "                                                            str(x).split(\",\"))\n",
    "    unique_genres = []\n",
    "    for i in df_imdb.genres:\n",
    "        for j in i:\n",
    "            if j in unique_genres:\n",
    "                continue\n",
    "            else:\n",
    "                unique_genres.append(j)\n",
    "    genre_dict = {}\n",
    "    for genre in unique_genres:\n",
    "        genre_dict[genre] = []\n",
    "    for genre in unique_genres:\n",
    "        one_hot = []\n",
    "        for movie in df_imdb.genres:\n",
    "            if genre in movie:\n",
    "                one_hot.append(1)\n",
    "            else:\n",
    "                one_hot.append(0)\n",
    "        genre_dict[genre] = one_hot\n",
    "    for genre in unique_genres:\n",
    "        df_imdb[genre] = genre_dict[genre]\n",
    "    new_columns = df_imdb.columns.map(lambda x: x.replace('-','_').lower())\n",
    "    df_imdb.columns = new_columns\n",
    "    return df_imdb\n",
    "    \n",
    "def tn_movie_budgets(cutoff = 1):\n",
    "    '''Imports and cleans tn database'''\n",
    "    df = pd.read_csv('data/tn.movie_budgets.csv')\n",
    "    #Convert object in format $10,000 to float64\n",
    "    df.domestic_gross = df.domestic_gross.replace(\n",
    "        '[\\$,]',\n",
    "        '',\n",
    "        regex=True\n",
    "    ).astype(float)\n",
    "    #Convert object in format $10,000 to float64\n",
    "    df.worldwide_gross = df.worldwide_gross.replace(\n",
    "        '[\\$,]',\n",
    "        '',\n",
    "        regex=True\n",
    "    ).astype(float)\n",
    "    #Convert object in format $10,000 to float64\n",
    "    df.production_budget = df.production_budget.replace(\n",
    "        '[\\$,]',\n",
    "        '',\n",
    "        regex=True\n",
    "    ).astype(float)   \n",
    "    #Convert object to str\n",
    "    #df.movie = df.movie.astype('str')\n",
    "    #Sort by revenue\n",
    "    df = df.sort_values(\n",
    "        by = 'worldwide_gross', \n",
    "        ascending = False)\n",
    "    #When there are duplicates keep higher revenue record \n",
    "#     df.drop_duplicates(\n",
    "#         subset= 'movie', \n",
    "#         keep = 'first',\n",
    "#         inplace = True\n",
    "#     )\n",
    "    #pending - convert date to date\n",
    "    #create new df with only movies above the revenue cut-off\n",
    "    df_cutoff = df[df['worldwide_gross'] > cutoff]    \n",
    "    #Cutoff captures xx% of total movie revenue\n",
    "#     share_cutoff = df_cutoff['worldwide_gross'].sum() / df['worldwide_gross'].sum()\n",
    "#     print( 'cutoff of ', cutoff, \" USD captures \", round(share_cutoff,2)*100, \"% of total revenue\")\n",
    "    #returns a cleaned and sorted tn_movie_budgets\n",
    "    df_cutoff.release_date = pd.to_datetime(df_cutoff.release_date)\n",
    "    df_cutoff['start_year'] = df_cutoff.release_date.dt.year\n",
    "    return df_cutoff\n",
    "\n",
    "def movies_combined ():\n",
    "    '''Merge imdb and tn database'''\n",
    "    df_cutoff = tn_movie_budgets()\n",
    "    df_imdb = get_imdb()\n",
    "    df = 1    \n",
    "    #Copies to avoid overwriting original df_TN\n",
    "    df_TN = df_cutoff.copy()    \n",
    "    #Set 'movie' as index\n",
    "    df_TN.set_index('movie', inplace=True)    \n",
    "    # create new df joining df_TN and df_IMDB\n",
    "    df = pd.merge(df_imdb, df_TN,  how='inner', left_on=['original_title','start_year'], \n",
    "                  right_on = ['movie','start_year'])\n",
    "    df.drop_duplicates(subset = 'primary_title', keep = 'first', inplace = True) \n",
    "    df = df.loc[df['start_year'] < 2019]\n",
    "    df.drop(columns = ['news','adult','talk_show','reality_tv','game_show','short'], inplace = True)\n",
    "    return df"
   ]
  },
  {
   "cell_type": "code",
   "execution_count": 106,
   "metadata": {},
   "outputs": [
    {
     "name": "stderr",
     "output_type": "stream",
     "text": [
      "/home/peter/anaconda3/lib/python3.7/site-packages/pandas/core/generic.py:5096: SettingWithCopyWarning: \n",
      "A value is trying to be set on a copy of a slice from a DataFrame.\n",
      "Try using .loc[row_indexer,col_indexer] = value instead\n",
      "\n",
      "See the caveats in the documentation: http://pandas.pydata.org/pandas-docs/stable/indexing.html#indexing-view-versus-copy\n",
      "  self[name] = value\n",
      "/home/peter/anaconda3/lib/python3.7/site-packages/ipykernel_launcher.py:78: SettingWithCopyWarning: \n",
      "A value is trying to be set on a copy of a slice from a DataFrame.\n",
      "Try using .loc[row_indexer,col_indexer] = value instead\n",
      "\n",
      "See the caveats in the documentation: http://pandas.pydata.org/pandas-docs/stable/indexing.html#indexing-view-versus-copy\n"
     ]
    }
   ],
   "source": [
    "df = movies_combined()"
   ]
  },
  {
   "cell_type": "code",
   "execution_count": 107,
   "metadata": {
    "scrolled": true
   },
   "outputs": [
    {
     "data": {
      "text/plain": [
       "1338"
      ]
     },
     "execution_count": 107,
     "metadata": {},
     "output_type": "execute_result"
    }
   ],
   "source": [
    "df.primary_title.nunique()"
   ]
  },
  {
   "cell_type": "code",
   "execution_count": 108,
   "metadata": {},
   "outputs": [
    {
     "data": {
      "text/plain": [
       "Index(['tconst', 'primary_title', 'original_title', 'start_year',\n",
       "       'runtime_minutes', 'genres', 'action', 'crime', 'drama', 'biography',\n",
       "       'comedy', 'fantasy', 'horror', 'thriller', 'adventure', 'animation',\n",
       "       'documentary', 'history', 'mystery', 'sci_fi', 'romance', 'family',\n",
       "       'war', 'music', 'sport', 'western', 'musical', 'id', 'release_date',\n",
       "       'production_budget', 'domestic_gross', 'worldwide_gross'],\n",
       "      dtype='object')"
      ]
     },
     "execution_count": 108,
     "metadata": {},
     "output_type": "execute_result"
    }
   ],
   "source": [
    "df.columns"
   ]
  },
  {
   "cell_type": "code",
   "execution_count": 72,
   "metadata": {},
   "outputs": [],
   "source": [
    "df = df.sort_values(by = 'runtime_minutes', ascending = False)"
   ]
  },
  {
   "cell_type": "code",
   "execution_count": 95,
   "metadata": {
    "scrolled": true
   },
   "outputs": [
    {
     "data": {
      "text/html": [
       "<div>\n",
       "<style scoped>\n",
       "    .dataframe tbody tr th:only-of-type {\n",
       "        vertical-align: middle;\n",
       "    }\n",
       "\n",
       "    .dataframe tbody tr th {\n",
       "        vertical-align: top;\n",
       "    }\n",
       "\n",
       "    .dataframe thead th {\n",
       "        text-align: right;\n",
       "    }\n",
       "</style>\n",
       "<table border=\"1\" class=\"dataframe\">\n",
       "  <thead>\n",
       "    <tr style=\"text-align: right;\">\n",
       "      <th></th>\n",
       "      <th>tconst</th>\n",
       "      <th>primary_title</th>\n",
       "      <th>original_title</th>\n",
       "      <th>start_year</th>\n",
       "      <th>runtime_minutes</th>\n",
       "      <th>genres</th>\n",
       "      <th>Action</th>\n",
       "      <th>Crime</th>\n",
       "      <th>Drama</th>\n",
       "      <th>Biography</th>\n",
       "      <th>...</th>\n",
       "      <th>News</th>\n",
       "      <th>Talk-Show</th>\n",
       "      <th>Reality-TV</th>\n",
       "      <th>Game-Show</th>\n",
       "      <th>Short</th>\n",
       "      <th>id</th>\n",
       "      <th>release_date</th>\n",
       "      <th>production_budget</th>\n",
       "      <th>domestic_gross</th>\n",
       "      <th>worldwide_gross</th>\n",
       "    </tr>\n",
       "  </thead>\n",
       "  <tbody>\n",
       "    <tr>\n",
       "      <th>1224</th>\n",
       "      <td>tt4218696</td>\n",
       "      <td>The Wall</td>\n",
       "      <td>The Wall</td>\n",
       "      <td>2017</td>\n",
       "      <td>88.0</td>\n",
       "      <td>[Action, Drama, Thriller]</td>\n",
       "      <td>1</td>\n",
       "      <td>0</td>\n",
       "      <td>1</td>\n",
       "      <td>0</td>\n",
       "      <td>...</td>\n",
       "      <td>0</td>\n",
       "      <td>0</td>\n",
       "      <td>0</td>\n",
       "      <td>0</td>\n",
       "      <td>0</td>\n",
       "      <td>29</td>\n",
       "      <td>2017-05-12</td>\n",
       "      <td>3000000.0</td>\n",
       "      <td>1803064.0</td>\n",
       "      <td>4495262.0</td>\n",
       "    </tr>\n",
       "  </tbody>\n",
       "</table>\n",
       "<p>1 rows × 38 columns</p>\n",
       "</div>"
      ],
      "text/plain": [
       "         tconst primary_title original_title  start_year  runtime_minutes  \\\n",
       "1224  tt4218696      The Wall       The Wall        2017             88.0   \n",
       "\n",
       "                         genres  Action  Crime  Drama  Biography  ...  News  \\\n",
       "1224  [Action, Drama, Thriller]       1      0      1          0  ...     0   \n",
       "\n",
       "      Talk-Show  Reality-TV  Game-Show  Short  id  release_date  \\\n",
       "1224          0           0          0      0  29    2017-05-12   \n",
       "\n",
       "      production_budget  domestic_gross  worldwide_gross  \n",
       "1224          3000000.0       1803064.0        4495262.0  \n",
       "\n",
       "[1 rows x 38 columns]"
      ]
     },
     "execution_count": 95,
     "metadata": {},
     "output_type": "execute_result"
    }
   ],
   "source": [
    "df.loc[df['primary_title'] == 'The Wall']"
   ]
  },
  {
   "cell_type": "code",
   "execution_count": 79,
   "metadata": {},
   "outputs": [],
   "source": [
    "df_drop = df.drop_duplicates(subset = 'primary_title', keep = 'first')"
   ]
  },
  {
   "cell_type": "code",
   "execution_count": 80,
   "metadata": {},
   "outputs": [
    {
     "data": {
      "text/plain": [
       "1371"
      ]
     },
     "execution_count": 80,
     "metadata": {},
     "output_type": "execute_result"
    }
   ],
   "source": [
    "len(df_drop)"
   ]
  },
  {
   "cell_type": "code",
   "execution_count": 81,
   "metadata": {},
   "outputs": [
    {
     "data": {
      "text/plain": [
       "1412"
      ]
     },
     "execution_count": 81,
     "metadata": {},
     "output_type": "execute_result"
    }
   ],
   "source": [
    "len(df)"
   ]
  },
  {
   "cell_type": "code",
   "execution_count": 97,
   "metadata": {},
   "outputs": [
    {
     "data": {
      "text/plain": [
       "Early Man                                   1\n",
       "Lincoln                                     1\n",
       "That's My Boy                               1\n",
       "My Big Fat Greek Wedding 2                  1\n",
       "Deadpool 2                                  1\n",
       "The Heat                                    1\n",
       "Lights Out                                  1\n",
       "The Bourne Legacy                           1\n",
       "Proud Mary                                  1\n",
       "The Giant Mechanical Man                    1\n",
       "X-Men: Apocalypse                           1\n",
       "The Second Mother                           1\n",
       "Philomena                                   1\n",
       "Dead Man Down                               1\n",
       "Meet the Mormons                            1\n",
       "Just Wright                                 1\n",
       "Indivisible                                 1\n",
       "A Tale of Three Cities                      1\n",
       "Concussion                                  1\n",
       "Dunkirk                                     1\n",
       "Buried                                      1\n",
       "Blade Runner 2049                           1\n",
       "True Grit                                   1\n",
       "The Shallows                                1\n",
       "Bad Times at the El Royale                  1\n",
       "The Intruder                                1\n",
       "The Last Song                               1\n",
       "Baywatch                                    1\n",
       "Priest                                      1\n",
       "A Very Harold & Kumar 3D Christmas          1\n",
       "                                           ..\n",
       "Game Night                                  1\n",
       "Love the Coopers                            1\n",
       "The Odd Life of Timothy Green               1\n",
       "You Will Meet a Tall Dark Stranger          1\n",
       "Cop Out                                     1\n",
       "The Star                                    1\n",
       "Drinking Buddies                            1\n",
       "The Wedding Ringer                          1\n",
       "The Expendables                             1\n",
       "Magic Mike XXL                              1\n",
       "The Drop                                    1\n",
       "Fifty Shades Freed                          1\n",
       "Incendies                                   1\n",
       "Why Did I Get Married Too?                  1\n",
       "Paranormal Activity 4                       1\n",
       "The Counselor                               1\n",
       "Stronger                                    1\n",
       "Hell Fest                                   1\n",
       "Girls Trip                                  1\n",
       "Poltergeist                                 1\n",
       "Parker                                      1\n",
       "Grace Unplugged                             1\n",
       "The Second Best Exotic Marigold Hotel       1\n",
       "Book Club                                   1\n",
       "A Simple Favor                              1\n",
       "Hacksaw Ridge                               1\n",
       "Furry Vengeance                             1\n",
       "The Forest                                  1\n",
       "Plush                                       1\n",
       "The SpongeBob Movie: Sponge Out of Water    1\n",
       "Name: primary_title, Length: 1371, dtype: int64"
      ]
     },
     "execution_count": 97,
     "metadata": {},
     "output_type": "execute_result"
    }
   ],
   "source": [
    "df_drop.primary_title.value_counts()"
   ]
  },
  {
   "cell_type": "code",
   "execution_count": null,
   "metadata": {},
   "outputs": [],
   "source": []
  }
 ],
 "metadata": {
  "kernelspec": {
   "display_name": "Python 3",
   "language": "python",
   "name": "python3"
  },
  "language_info": {
   "codemirror_mode": {
    "name": "ipython",
    "version": 3
   },
   "file_extension": ".py",
   "mimetype": "text/x-python",
   "name": "python",
   "nbconvert_exporter": "python",
   "pygments_lexer": "ipython3",
   "version": "3.7.3"
  }
 },
 "nbformat": 4,
 "nbformat_minor": 2
}
